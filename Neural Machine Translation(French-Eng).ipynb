{
  "nbformat": 4,
  "nbformat_minor": 0,
  "metadata": {
    "colab": {
      "name": "nmt (5).ipynb",
      "provenance": [],
      "collapsed_sections": []
    },
    "kernelspec": {
      "name": "python3",
      "display_name": "Python 3"
    },
    "accelerator": "GPU"
  },
  "cells": [
    {
      "cell_type": "code",
      "metadata": {
        "id": "b6ZIUpwFih7a",
        "colab_type": "code",
        "outputId": "3f00b5c8-d94c-4f2b-c0a4-0d80a4b9224a",
        "colab": {
          "base_uri": "https://localhost:8080/",
          "height": 51
        }
      },
      "source": [
        "from google.colab import drive\n",
        "drive.mount('/gdrive')\n",
        "%cd /gdrive\n"
      ],
      "execution_count": 0,
      "outputs": [
        {
          "output_type": "stream",
          "text": [
            "Drive already mounted at /gdrive; to attempt to forcibly remount, call drive.mount(\"/gdrive\", force_remount=True).\n",
            "/gdrive\n"
          ],
          "name": "stdout"
        }
      ]
    },
    {
      "cell_type": "code",
      "metadata": {
        "id": "qQ7C1ecfiqcI",
        "colab_type": "code",
        "colab": {}
      },
      "source": [
        "import string\n",
        "import re\n",
        "from numpy import array, argmax, random, take\n",
        "import numpy as np\n",
        "import pandas as pd\n",
        "import tensorflow as tf\n",
        "from keras.layers import Dense, CuDNNGRU, GRU, Embedding\n",
        "from keras.preprocessing.text import Tokenizer\n",
        "from keras.callbacks import ModelCheckpoint\n",
        "from keras.preprocessing.sequence import pad_sequences\n",
        "from keras import optimizers\n",
        "import matplotlib.pyplot as plt\n",
        "from sklearn.model_selection import train_test_split\n",
        "%matplotlib inline\n",
        "import unicodedata\n",
        "import io\n",
        "import os\n",
        "import time"
      ],
      "execution_count": 0,
      "outputs": []
    },
    {
      "cell_type": "code",
      "metadata": {
        "id": "o88uz_9kmSxS",
        "colab_type": "code",
        "colab": {}
      },
      "source": [
        "#path_to_file = '/content/fra1.txt'\n",
        "#path_to_file = '/content/drive/My Drive/Colab Notebooks/fra1.txt'\n",
        "path_to_file = '/content/sample_data/fra1.txt'"
      ],
      "execution_count": 0,
      "outputs": []
    },
    {
      "cell_type": "code",
      "metadata": {
        "id": "7OB9IkJCm75L",
        "colab_type": "code",
        "colab": {}
      },
      "source": [
        "def unicode_to_acii(s):\n",
        "  return ''.join(c for c in unicodedata.normalize('NFD', s)\n",
        "        if unicodedata.category(c) != 'Mn')"
      ],
      "execution_count": 0,
      "outputs": []
    },
    {
      "cell_type": "code",
      "metadata": {
        "id": "itS-QoVznJ64",
        "colab_type": "code",
        "colab": {}
      },
      "source": [
        "def preprocess_sentence(w):\n",
        "  w = unicode_to_acii(w.lower().strip())\n",
        "\n",
        "# creating a space between a word and the punctuation following it\n",
        "# eg: \"he is a boy.\" => \"he is a boy .\" \n",
        "# Reference:- https://stackoverflow.com/questions/3645931/python-padding-punctuation-with-white-spaces-keeping-punctuation\n",
        " \n",
        "  w = re.sub(r\"([?.!,¿])\", r\" \\1 \", w)\n",
        "  w = re.sub(r'[\" \"]+', \" \", w)\n",
        "  \n",
        "# replacing everything with space except (a-z, A-Z, \".\", \"?\", \"!\", \",\")\n",
        "\n",
        "  w = re.sub(r\"[^a-zA-Z?.!,¿]+\", \" \", w)\n",
        "  w = w.strip()\n",
        "# adding a start and an end token to the sentence\n",
        "# so that the model know when to start and stop predicting.\n",
        "  w = '<start> ' + w + ' <end>'\n",
        "  return w"
      ],
      "execution_count": 0,
      "outputs": []
    },
    {
      "cell_type": "code",
      "metadata": {
        "id": "RXJryIzrr_-s",
        "colab_type": "code",
        "outputId": "ce3f3d99-96a0-4c55-a365-eaf9b1a47a42",
        "colab": {
          "base_uri": "https://localhost:8080/",
          "height": 51
        }
      },
      "source": [
        "en_sentence = u\"May I borrow this book?\"\n",
        "fr_sentence = u\"Puis-je emprunter ce livre?\"\n",
        "print(preprocess_sentence(en_sentence))\n",
        "print(preprocess_sentence(fr_sentence).encode('utf-8'))"
      ],
      "execution_count": 0,
      "outputs": [
        {
          "output_type": "stream",
          "text": [
            "<start> may i borrow this book ? <end>\n",
            "b'<start> puis je emprunter ce livre ? <end>'\n"
          ],
          "name": "stdout"
        }
      ]
    },
    {
      "cell_type": "code",
      "metadata": {
        "id": "YWrJ3arQtBpY",
        "colab_type": "code",
        "colab": {}
      },
      "source": [
        "def create_dataset(path, num_examples):\n",
        "  lines = io.open(path, encoding='UTF-8').read().strip().split('\\n')\n",
        "\n",
        "  word_pairs = [[preprocess_sentence(w) for w in l.split('\\t')]  for l in lines[:num_examples]]\n",
        "\n",
        "  return zip(*word_pairs)"
      ],
      "execution_count": 0,
      "outputs": []
    },
    {
      "cell_type": "code",
      "metadata": {
        "id": "uSPFRdBIt9eM",
        "colab_type": "code",
        "outputId": "6b9c77bc-1a71-4aaa-b51c-2782379e7488",
        "colab": {
          "base_uri": "https://localhost:8080/",
          "height": 71
        }
      },
      "source": [
        "en, fr = create_dataset(path_to_file, None)\n",
        "print(en[-1])\n",
        "print(fr[-1])"
      ],
      "execution_count": 0,
      "outputs": [
        {
          "output_type": "stream",
          "text": [
            "<start> it may be impossible to get a completely error free corpus due to the nature of this kind of collaborative effort . however , if we encourage members to contribute sentences in their own languages rather than experiment in languages they are learning , we might be able to minimize errors . <end>\n",
            "<start> il est peut etre impossible d obtenir un corpus completement denue de fautes , etant donnee la nature de ce type d entreprise collaborative . cependant , si nous encourageons les membres a produire des phrases dans leurs propres langues plutot que d experimenter dans les langues qu ils apprennent , nous pourrions etre en mesure de reduire les erreurs . <end>\n"
          ],
          "name": "stdout"
        }
      ]
    },
    {
      "cell_type": "code",
      "metadata": {
        "id": "BGZ6n267uGC4",
        "colab_type": "code",
        "colab": {}
      },
      "source": [
        "def tokenize(lang):\n",
        "  lang_tokenizer = tf.keras.preprocessing.text.Tokenizer(\n",
        "      filters='')\n",
        "  lang_tokenizer.fit_on_texts(lang)\n",
        "\n",
        "  tensor = lang_tokenizer.texts_to_sequences(lang)\n",
        "\n",
        "  tensor = tf.keras.preprocessing.sequence.pad_sequences(tensor,\n",
        "                                                         padding='post')\n",
        "\n",
        "  return tensor, lang_tokenizer"
      ],
      "execution_count": 0,
      "outputs": []
    },
    {
      "cell_type": "code",
      "metadata": {
        "id": "TQ8FB5U9y1jU",
        "colab_type": "code",
        "colab": {}
      },
      "source": [
        "def load_dataset(path, num_examples=None):\n",
        "  # creating cleaned input, output pairs\n",
        "  targ_lang, inp_lang = create_dataset(path, num_examples)\n",
        "  \n",
        "  input_tensor, inp_lang_tokenizer = tokenize(inp_lang)\n",
        "  target_tensor, targ_lang_tokenizer = tokenize(targ_lang)\n",
        "\n",
        "  return input_tensor, target_tensor, inp_lang_tokenizer, targ_lang_tokenizer"
      ],
      "execution_count": 0,
      "outputs": []
    },
    {
      "cell_type": "code",
      "metadata": {
        "id": "7sWcBu21y3mn",
        "colab_type": "code",
        "colab": {}
      },
      "source": [
        "# Try experimenting with the size of that dataset\n",
        "num_examples = 120000\n",
        "input_tensor, target_tensor, inp_lang, targ_lang = load_dataset(path_to_file, num_examples)\n",
        "\n",
        "# Calculate max_length of the target tensors\n",
        "max_length_targ, max_length_inp = target_tensor.shape[1], input_tensor.shape[1]"
      ],
      "execution_count": 0,
      "outputs": []
    },
    {
      "cell_type": "code",
      "metadata": {
        "id": "W3vexp6c_CCv",
        "colab_type": "code",
        "outputId": "df371f70-1e51-4ba4-f4e7-0a7cb7100a2e",
        "colab": {
          "base_uri": "https://localhost:8080/",
          "height": 34
        }
      },
      "source": [
        "print(max_length_inp, max_length_targ)"
      ],
      "execution_count": 0,
      "outputs": [
        {
          "output_type": "stream",
          "text": [
            "21 14\n"
          ],
          "name": "stdout"
        }
      ]
    },
    {
      "cell_type": "code",
      "metadata": {
        "id": "H87ixlDvzNz0",
        "colab_type": "code",
        "outputId": "bd763137-dfcb-43a8-ca2f-ecb68b21739a",
        "colab": {
          "base_uri": "https://localhost:8080/",
          "height": 34
        }
      },
      "source": [
        "# Creating training and validation sets using an 80-20 split\n",
        "input_tensor_train, input_tensor_val, target_tensor_train, target_tensor_val = train_test_split(input_tensor, target_tensor, test_size = 0.1 )\n",
        "# Show length\n",
        "print(len(input_tensor_train), len(target_tensor_train), len(input_tensor_val), len(target_tensor_val))"
      ],
      "execution_count": 0,
      "outputs": [
        {
          "output_type": "stream",
          "text": [
            "108000 108000 12000 12000\n"
          ],
          "name": "stdout"
        }
      ]
    },
    {
      "cell_type": "code",
      "metadata": {
        "id": "cwvATLwazTRZ",
        "colab_type": "code",
        "colab": {}
      },
      "source": [
        "def convert(lang, tensor):\n",
        "  for t in tensor:\n",
        "    if t!=0:\n",
        "      print (\"%d ----> %s\" % (t, lang.index_word[t]))"
      ],
      "execution_count": 0,
      "outputs": []
    },
    {
      "cell_type": "code",
      "metadata": {
        "id": "qmOZS6-w9QFI",
        "colab_type": "code",
        "outputId": "2a08dc60-3256-430e-eee5-99be15afbeb2",
        "colab": {
          "base_uri": "https://localhost:8080/",
          "height": 306
        }
      },
      "source": [
        "print (\"Input Language; index to word mapping\")\n",
        "convert(inp_lang, input_tensor_train[0])\n",
        "print ()\n",
        "print (\"Target Language; index to word mapping\")\n",
        "convert(targ_lang, target_tensor_train[0])"
      ],
      "execution_count": 0,
      "outputs": [
        {
          "output_type": "stream",
          "text": [
            "Input Language; index to word mapping\n",
            "1 ----> <start>\n",
            "4 ----> je\n",
            "284 ----> deteste\n",
            "78 ----> ma\n",
            "835 ----> voix\n",
            "3 ----> .\n",
            "2 ----> <end>\n",
            "\n",
            "Target Language; index to word mapping\n",
            "1 ----> <start>\n",
            "4 ----> i\n",
            "264 ----> hate\n",
            "30 ----> my\n",
            "1036 ----> voice\n",
            "3 ----> .\n",
            "2 ----> <end>\n"
          ],
          "name": "stdout"
        }
      ]
    },
    {
      "cell_type": "code",
      "metadata": {
        "id": "PPT0A8Q-9VJE",
        "colab_type": "code",
        "outputId": "f7401332-b294-4597-85a9-85b25da0cf7a",
        "colab": {
          "base_uri": "https://localhost:8080/",
          "height": 34
        }
      },
      "source": [
        "BUFFER_SIZE = len(input_tensor_train)\n",
        "BATCH_SIZE = 64\n",
        "steps_per_epoch = len(input_tensor_train)//BATCH_SIZE\n",
        "embedding_dim = 256\n",
        "units = 1024\n",
        "vocab_inp_size = len(inp_lang.word_index)+1\n",
        "vocab_tar_size = len(targ_lang.word_index)+1\n",
        "\n",
        "dataset = tf.data.Dataset.from_tensor_slices((input_tensor_train, target_tensor_train)).shuffle(BUFFER_SIZE)\n",
        "dataset = dataset.batch(BATCH_SIZE, drop_remainder=True)\n",
        "dataset"
      ],
      "execution_count": 0,
      "outputs": [
        {
          "output_type": "execute_result",
          "data": {
            "text/plain": [
              "<BatchDataset shapes: ((64, 21), (64, 14)), types: (tf.int32, tf.int32)>"
            ]
          },
          "metadata": {
            "tags": []
          },
          "execution_count": 38
        }
      ]
    },
    {
      "cell_type": "code",
      "metadata": {
        "id": "YDk6DEoiDFsq",
        "colab_type": "code",
        "outputId": "d948c61a-6e00-4153-8d5c-a8682c4b8c6d",
        "colab": {
          "base_uri": "https://localhost:8080/",
          "height": 34
        }
      },
      "source": [
        "input_batch, target_batch = next(iter(dataset))\n",
        "input_batch.shape, target_batch.shape"
      ],
      "execution_count": 0,
      "outputs": [
        {
          "output_type": "execute_result",
          "data": {
            "text/plain": [
              "(TensorShape([64, 21]), TensorShape([64, 14]))"
            ]
          },
          "metadata": {
            "tags": []
          },
          "execution_count": 39
        }
      ]
    },
    {
      "cell_type": "code",
      "metadata": {
        "id": "4lDVlaVX_y4v",
        "colab_type": "code",
        "colab": {}
      },
      "source": [
        "def gru(units):\n",
        "  # If you have a GPU, we recommend using CuDNNGRU(provides a 3x speedup than GRU)\n",
        "  # the code automatically does that.\n",
        "  if tf.test.is_gpu_available():\n",
        "    return CuDNNGRU(units, return_sequences=True, \n",
        "                           return_state=True, \n",
        "                           recurrent_initializer='glorot_uniform')\n",
        "  else:\n",
        "    return GRU(units, return_sequences=True, \n",
        "                      return_state=True, \n",
        "                      recurrent_activation='sigmoid', \n",
        "                      recurrent_initializer='glorot_uniform')"
      ],
      "execution_count": 0,
      "outputs": []
    },
    {
      "cell_type": "code",
      "metadata": {
        "id": "teK1YcA2DtVR",
        "colab_type": "code",
        "colab": {}
      },
      "source": [
        "class Encoder(tf.keras.Model):\n",
        "  def __init__(self, vocab_size, embedding_dim, enc_units, batch_sz):\n",
        "    super(Encoder, self).__init__()\n",
        "    self.batch_sz = batch_sz\n",
        "    self.enc_units = enc_units\n",
        "    self.embedding = tf.keras.layers.Embedding(vocab_size, embedding_dim)\n",
        "    self.gru = tf.keras.layers.GRU(self.enc_units,\n",
        "                                   return_sequences=True,\n",
        "                                   return_state=True,\n",
        "                                   recurrent_initializer='glorot_uniform')\n",
        "\n",
        "  def call(self, x, hidden):\n",
        "    x = self.embedding(x)\n",
        "    output, state = self.gru(x, initial_state = hidden)\n",
        "    return output, state\n",
        "\n",
        "  def initialize_hidden_state(self):\n",
        "    return tf.zeros((self.batch_sz, self.enc_units))"
      ],
      "execution_count": 0,
      "outputs": []
    },
    {
      "cell_type": "code",
      "metadata": {
        "id": "wpnPUiV48cca",
        "colab_type": "code",
        "colab": {}
      },
      "source": [
        "class BahdanauAttention(tf.keras.layers.Layer):\n",
        "  def __init__(self, units):\n",
        "    super(BahdanauAttention, self).__init__()\n",
        "    self.W1 = tf.keras.layers.Dense(units)\n",
        "    self.W2 = tf.keras.layers.Dense(units)\n",
        "    self.V = tf.keras.layers.Dense(1)\n",
        "\n",
        "  def call(self, query, values):\n",
        "    # query hidden state shape == (batch_size, hidden size)\n",
        "    # query_with_time_axis shape == (batch_size, 1, hidden size)\n",
        "    # values shape == (batch_size, max_len, hidden size)\n",
        "    # we are doing this to broadcast addition along the time axis to calculate the score\n",
        "    query_with_time_axis = tf.expand_dims(query, 1)\n",
        "\n",
        "    # score shape == (batch_size, max_length, 1)\n",
        "    # we get 1 at the last axis because we are applying score to self.V\n",
        "    # the shape of the tensor before applying self.V is (batch_size, max_length, units)\n",
        "    score = self.V(tf.nn.tanh(\n",
        "        self.W1(query_with_time_axis) + self.W2(values)))\n",
        "\n",
        "    # attention_weights shape == (batch_size, max_length, 1)\n",
        "    attention_weights = tf.nn.softmax(score, axis=1)\n",
        "\n",
        "    # context_vector shape after sum == (batch_size, hidden_size)\n",
        "    context_vector = attention_weights * values\n",
        "    context_vector = tf.reduce_sum(context_vector, axis=1)\n",
        "\n",
        "    return context_vector, attention_weights\n",
        "\n",
        "attention_layer = BahdanauAttention(10)"
      ],
      "execution_count": 0,
      "outputs": []
    },
    {
      "cell_type": "code",
      "metadata": {
        "id": "mUrLM-bRf57y",
        "colab_type": "code",
        "outputId": "be1cffe3-6e49-4d71-8e86-5124a30af71a",
        "colab": {
          "base_uri": "https://localhost:8080/",
          "height": 54
        }
      },
      "source": [
        "'''class Decoder(tf.keras.Model):\n",
        "    def __init__(self, vocab_size, embedding_dim, dec_units, batch_sz):\n",
        "        super(Decoder, self).__init__()\n",
        "        self.batch_sz = batch_sz\n",
        "        self.dec_units = dec_units\n",
        "        self.embedding = tf.keras.layers.Embedding(vocab_size, embedding_dim)\n",
        "        self.gru = gru(self.dec_units)\n",
        "        self.fc = tf.keras.layers.Dense(vocab_size)\n",
        "        \n",
        "        # used for attention\n",
        "        self.W1 = tf.keras.layers.Dense(self.dec_units)\n",
        "        self.W2 = tf.keras.layers.Dense(self.dec_units)\n",
        "        self.V = tf.keras.layers.Dense(1)\n",
        "        \n",
        "    def call(self, x, hidden, enc_output):\n",
        "        # enc_output shape == (batch_size, max_length, hidden_size)\n",
        "        \n",
        "        # hidden shape == (batch_size, hidden size)\n",
        "        # hidden_with_time_axis shape == (batch_size, 1, hidden size)\n",
        "        # we are doing this to perform addition to calculate the score\n",
        "        hidden_with_time_axis = tf.expand_dims(hidden, 1)\n",
        "        \n",
        "        # score shape == (batch_size, max_length, hidden_size)\n",
        "        score = tf.nn.tanh(self.W1(enc_output) + self.W2(hidden_with_time_axis))\n",
        "        \n",
        "        # attention_weights shape == (batch_size, max_length, 1)\n",
        "        # we get 1 at the last axis because we are applying score to self.V\n",
        "        attention_weights = tf.nn.softmax(self.V(score), axis=1)\n",
        "        \n",
        "        # context_vector shape after sum == (batch_size, hidden_size)\n",
        "        context_vector = attention_weights * enc_output\n",
        "        context_vector = tf.reduce_sum(context_vector, axis=1)\n",
        "        \n",
        "        # x shape after passing through embedding == (batch_size, 1, embedding_dim)\n",
        "        x = self.embedding(x)\n",
        "        \n",
        "        # x shape after concatenation == (batch_size, 1, embedding_dim + hidden_size)\n",
        "        x = tf.concat([tf.expand_dims(context_vector, 1), x], axis=-1)\n",
        "        \n",
        "        # passing the concatenated vector to the GRU\n",
        "        output, state = self.gru(x)\n",
        "        \n",
        "        # output shape == (batch_size * max_length, hidden_size)\n",
        "        output = tf.reshape(output, (-1, output.shape[2]))\n",
        "        \n",
        "        # output shape == (batch_size * max_length, vocab)\n",
        "        x = self.fc(output)\n",
        "        \n",
        "        return x, state, attention_weights\n",
        "        \n",
        "    def initialize_hidden_state(self):\n",
        "        return tf.zeros((self.batch_sz, self.dec_units))'''\n",
        "        "
      ],
      "execution_count": 0,
      "outputs": [
        {
          "output_type": "execute_result",
          "data": {
            "text/plain": [
              "'class Decoder(tf.keras.Model):\\n    def __init__(self, vocab_size, embedding_dim, dec_units, batch_sz):\\n        super(Decoder, self).__init__()\\n        self.batch_sz = batch_sz\\n        self.dec_units = dec_units\\n        self.embedding = tf.keras.layers.Embedding(vocab_size, embedding_dim)\\n        self.gru = gru(self.dec_units)\\n        self.fc = tf.keras.layers.Dense(vocab_size)\\n        \\n        # used for attention\\n        self.W1 = tf.keras.layers.Dense(self.dec_units)\\n        self.W2 = tf.keras.layers.Dense(self.dec_units)\\n        self.V = tf.keras.layers.Dense(1)\\n        \\n    def call(self, x, hidden, enc_output):\\n        # enc_output shape == (batch_size, max_length, hidden_size)\\n        \\n        # hidden shape == (batch_size, hidden size)\\n        # hidden_with_time_axis shape == (batch_size, 1, hidden size)\\n        # we are doing this to perform addition to calculate the score\\n        hidden_with_time_axis = tf.expand_dims(hidden, 1)\\n        \\n        # score shape == (batch_size, max_length, hidden_size)\\n        score = tf.nn.tanh(self.W1(enc_output) + self.W2(hidden_with_time_axis))\\n        \\n        # attention_weights shape == (batch_size, max_length, 1)\\n        # we get 1 at the last axis because we are applying score to self.V\\n        attention_weights = tf.nn.softmax(self.V(score), axis=1)\\n        \\n        # context_vector shape after sum == (batch_size, hidden_size)\\n        context_vector = attention_weights * enc_output\\n        context_vector = tf.reduce_sum(context_vector, axis=1)\\n        \\n        # x shape after passing through embedding == (batch_size, 1, embedding_dim)\\n        x = self.embedding(x)\\n        \\n        # x shape after concatenation == (batch_size, 1, embedding_dim + hidden_size)\\n        x = tf.concat([tf.expand_dims(context_vector, 1), x], axis=-1)\\n        \\n        # passing the concatenated vector to the GRU\\n        output, state = self.gru(x)\\n        \\n        # output shape == (batch_size * max_length, hidden_size)\\n        output = tf.reshape(output, (-1, output.shape[2]))\\n        \\n        # output shape == (batch_size * max_length, vocab)\\n        x = self.fc(output)\\n        \\n        return x, state, attention_weights\\n        \\n    def initialize_hidden_state(self):\\n        return tf.zeros((self.batch_sz, self.dec_units))'"
            ]
          },
          "metadata": {
            "tags": []
          },
          "execution_count": 43
        }
      ]
    },
    {
      "cell_type": "code",
      "metadata": {
        "id": "K7dYaBu78pfU",
        "colab_type": "code",
        "colab": {}
      },
      "source": [
        "class Decoder(tf.keras.Model):\n",
        "  def __init__(self, vocab_size, embedding_dim, dec_units, batch_sz):\n",
        "    super(Decoder, self).__init__()\n",
        "    self.batch_sz = batch_sz\n",
        "    self.dec_units = dec_units\n",
        "    self.embedding = tf.keras.layers.Embedding(vocab_size, embedding_dim)\n",
        "    self.gru = tf.keras.layers.GRU(self.dec_units,\n",
        "                                   return_sequences=True,\n",
        "                                   return_state=True,\n",
        "                                   recurrent_initializer='glorot_uniform')\n",
        "    self.fc = tf.keras.layers.Dense(vocab_size)\n",
        "\n",
        "    # used for attention\n",
        "    self.attention = BahdanauAttention(self.dec_units)\n",
        "\n",
        "  def call(self, x, hidden, enc_output):\n",
        "    # enc_output shape == (batch_size, max_length, hidden_size)\n",
        "    context_vector, attention_weights = self.attention(hidden, enc_output)\n",
        "\n",
        "    # x shape after passing through embedding == (batch_size, 1, embedding_dim)\n",
        "    x = self.embedding(x)\n",
        "\n",
        "    # x shape after concatenation == (batch_size, 1, embedding_dim + hidden_size)\n",
        "    x = tf.concat([tf.expand_dims(context_vector, 1), x], axis=-1)\n",
        "\n",
        "    # passing the concatenated vector to the GRU\n",
        "    output, state = self.gru(x)\n",
        "\n",
        "    # output shape == (batch_size * 1, hidden_size)\n",
        "    output = tf.reshape(output, (-1, output.shape[2]))\n",
        "\n",
        "    # output shape == (batch_size, vocab)\n",
        "    x = self.fc(output)\n",
        "\n",
        "    return x, state, attention_weights"
      ],
      "execution_count": 0,
      "outputs": []
    },
    {
      "cell_type": "code",
      "metadata": {
        "id": "JkHzbiweBBKn",
        "colab_type": "code",
        "colab": {}
      },
      "source": [
        "encoder = Encoder(vocab_inp_size, embedding_dim, units, BATCH_SIZE)\n",
        "decoder = Decoder(vocab_tar_size, embedding_dim, units, BATCH_SIZE)"
      ],
      "execution_count": 0,
      "outputs": []
    },
    {
      "cell_type": "code",
      "metadata": {
        "id": "oCv0X9CPBMta",
        "colab_type": "code",
        "colab": {}
      },
      "source": [
        "optimizer = tf.keras.optimizers.Adam()\n",
        "loss_object = tf.keras.losses.SparseCategoricalCrossentropy(\n",
        "    from_logits=True, reduction='none')\n",
        "\n",
        "def loss_function(real, pred):\n",
        "  mask = tf.math.logical_not(tf.math.equal(real, 0))\n",
        "  loss_ = loss_object(real, pred)\n",
        "\n",
        "  mask = tf.cast(mask, dtype=loss_.dtype)\n",
        "  loss_ *= mask\n",
        "\n",
        "  return tf.reduce_mean(loss_)"
      ],
      "execution_count": 0,
      "outputs": []
    },
    {
      "cell_type": "code",
      "metadata": {
        "id": "ABtres4SNtUx",
        "colab_type": "code",
        "colab": {}
      },
      "source": [
        "checkpoint_dir = './training_checkpointss'\n",
        "checkpoint_prefix = os.path.join(checkpoint_dir, \"ckpt\")\n",
        "checkpoint = tf.train.Checkpoint(optimizer=optimizer,\n",
        "                                 encoder=encoder,\n",
        "                                 decoder=decoder)"
      ],
      "execution_count": 0,
      "outputs": []
    },
    {
      "cell_type": "code",
      "metadata": {
        "id": "XHatiEnCD4bO",
        "colab_type": "code",
        "colab": {}
      },
      "source": [
        "@tf.function\n",
        "def train_step(inp, targ, enc_hidden):\n",
        "  loss = 0\n",
        "\n",
        "  with tf.GradientTape() as tape:\n",
        "    enc_output, enc_hidden = encoder(inp, enc_hidden)\n",
        "\n",
        "    dec_hidden = enc_hidden\n",
        "\n",
        "    dec_input = tf.expand_dims([targ_lang.word_index['<start>']] * BATCH_SIZE, 1)\n",
        "\n",
        "    # Teacher forcing - feeding the target as the next input\n",
        "    for t in range(1, targ.shape[1]):\n",
        "      # passing enc_output to the decoder\n",
        "      predictions, dec_hidden, _ = decoder(dec_input, dec_hidden, enc_output)\n",
        "\n",
        "      loss += loss_function(targ[:, t], predictions)\n",
        "\n",
        "      # using teacher forcing\n",
        "      dec_input = tf.expand_dims(targ[:, t], 1)\n",
        "\n",
        "  batch_loss = (loss / int(targ.shape[1]))\n",
        "\n",
        "  variables = encoder.trainable_variables + decoder.trainable_variables\n",
        "\n",
        "  gradients = tape.gradient(loss, variables)\n",
        "\n",
        "  optimizer.apply_gradients(zip(gradients, variables))\n",
        "\n",
        "  return batch_loss"
      ],
      "execution_count": 0,
      "outputs": []
    },
    {
      "cell_type": "code",
      "metadata": {
        "id": "t84vbnHTExZI",
        "colab_type": "code",
        "outputId": "8f173d05-b9ca-4e5c-a136-e8ca09f14dce",
        "colab": {
          "base_uri": "https://localhost:8080/",
          "height": 1000
        }
      },
      "source": [
        "EPOCHS = 10\n",
        "\n",
        "for epoch in range(EPOCHS):\n",
        "  start = time.time()\n",
        "\n",
        "  enc_hidden = encoder.initialize_hidden_state()\n",
        "  total_loss = 0\n",
        "\n",
        "  for (batch, (inp, targ)) in enumerate(dataset.take(steps_per_epoch)):\n",
        "    batch_loss = train_step(inp, targ, enc_hidden)\n",
        "    total_loss = total_loss + batch_loss\n",
        "\n",
        "    if batch % 100 == 0:\n",
        "      print('Epoch {} Batch {} Loss {:.4f}'.format(epoch + 1,\n",
        "                                                   batch,\n",
        "                                                   batch_loss.numpy()))\n",
        "  # saving (checkpoint) the model every 2 epochs\n",
        " # if (epoch + 1) % 2 == 0:\n",
        " #   checkpoint.save(file_prefix = checkpoint_prefix)\n",
        "\n",
        "  print('Epoch {} Loss {:.4f}'.format(epoch + 1,\n",
        "                                      total_loss / steps_per_epoch))\n",
        "  print('Time taken for 1 epoch {} sec\\n'.format(time.time() - start))\n"
      ],
      "execution_count": 0,
      "outputs": [
        {
          "output_type": "stream",
          "text": [
            "Epoch 1 Batch 0 Loss 0.5161\n",
            "Epoch 1 Batch 100 Loss 0.4040\n",
            "Epoch 1 Batch 200 Loss 0.4739\n",
            "Epoch 1 Batch 300 Loss 0.4268\n",
            "Epoch 1 Batch 400 Loss 0.4627\n",
            "Epoch 1 Batch 500 Loss 0.2840\n",
            "Epoch 1 Batch 600 Loss 0.3145\n",
            "Epoch 1 Batch 700 Loss 0.4313\n",
            "Epoch 1 Batch 800 Loss 0.5121\n",
            "Epoch 1 Batch 900 Loss 0.3927\n",
            "Epoch 1 Batch 1000 Loss 0.4693\n",
            "Epoch 1 Batch 1100 Loss 0.4609\n",
            "Epoch 1 Batch 1200 Loss 0.3857\n",
            "Epoch 1 Batch 1300 Loss 0.3902\n",
            "Epoch 1 Batch 1400 Loss 0.4160\n",
            "Epoch 1 Batch 1500 Loss 0.4152\n",
            "Epoch 1 Batch 1600 Loss 0.4109\n",
            "Epoch 1 Loss 0.4207\n",
            "Time taken for 1 epoch 305.9435691833496 sec\n",
            "\n",
            "Epoch 2 Batch 0 Loss 0.2211\n",
            "Epoch 2 Batch 100 Loss 0.2327\n",
            "Epoch 2 Batch 200 Loss 0.2952\n",
            "Epoch 2 Batch 300 Loss 0.2081\n",
            "Epoch 2 Batch 400 Loss 0.2176\n",
            "Epoch 2 Batch 500 Loss 0.3531\n",
            "Epoch 2 Batch 600 Loss 0.2459\n",
            "Epoch 2 Batch 700 Loss 0.2873\n",
            "Epoch 2 Batch 800 Loss 0.2677\n",
            "Epoch 2 Batch 900 Loss 0.2385\n",
            "Epoch 2 Batch 1000 Loss 0.3312\n",
            "Epoch 2 Batch 1100 Loss 0.2806\n",
            "Epoch 2 Batch 1200 Loss 0.1944\n",
            "Epoch 2 Batch 1300 Loss 0.2244\n",
            "Epoch 2 Batch 1400 Loss 0.2400\n",
            "Epoch 2 Batch 1500 Loss 0.3550\n",
            "Epoch 2 Batch 1600 Loss 0.2087\n",
            "Epoch 2 Loss 0.2631\n",
            "Time taken for 1 epoch 303.72353649139404 sec\n",
            "\n",
            "Epoch 3 Batch 0 Loss 0.2376\n",
            "Epoch 3 Batch 100 Loss 0.1641\n",
            "Epoch 3 Batch 200 Loss 0.1366\n",
            "Epoch 3 Batch 300 Loss 0.1320\n",
            "Epoch 3 Batch 400 Loss 0.1686\n",
            "Epoch 3 Batch 500 Loss 0.1407\n",
            "Epoch 3 Batch 600 Loss 0.2069\n",
            "Epoch 3 Batch 700 Loss 0.1949\n",
            "Epoch 3 Batch 800 Loss 0.1757\n",
            "Epoch 3 Batch 900 Loss 0.2125\n",
            "Epoch 3 Batch 1000 Loss 0.2318\n",
            "Epoch 3 Batch 1100 Loss 0.1621\n",
            "Epoch 3 Batch 1200 Loss 0.2039\n",
            "Epoch 3 Batch 1300 Loss 0.1925\n",
            "Epoch 3 Batch 1400 Loss 0.2542\n",
            "Epoch 3 Batch 1500 Loss 0.1842\n",
            "Epoch 3 Batch 1600 Loss 0.1982\n",
            "Epoch 3 Loss 0.1835\n",
            "Time taken for 1 epoch 303.61638879776 sec\n",
            "\n",
            "Epoch 4 Batch 0 Loss 0.1733\n",
            "Epoch 4 Batch 100 Loss 0.1053\n",
            "Epoch 4 Batch 200 Loss 0.1062\n",
            "Epoch 4 Batch 300 Loss 0.1206\n",
            "Epoch 4 Batch 400 Loss 0.0879\n",
            "Epoch 4 Batch 500 Loss 0.1547\n",
            "Epoch 4 Batch 600 Loss 0.1673\n",
            "Epoch 4 Batch 700 Loss 0.1396\n",
            "Epoch 4 Batch 800 Loss 0.1434\n",
            "Epoch 4 Batch 900 Loss 0.1054\n",
            "Epoch 4 Batch 1000 Loss 0.1461\n",
            "Epoch 4 Batch 1100 Loss 0.1736\n",
            "Epoch 4 Batch 1200 Loss 0.1804\n",
            "Epoch 4 Batch 1300 Loss 0.1362\n",
            "Epoch 4 Batch 1400 Loss 0.1446\n",
            "Epoch 4 Batch 1500 Loss 0.1070\n",
            "Epoch 4 Batch 1600 Loss 0.1448\n",
            "Epoch 4 Loss 0.1402\n",
            "Time taken for 1 epoch 303.5912299156189 sec\n",
            "\n",
            "Epoch 5 Batch 0 Loss 0.0844\n",
            "Epoch 5 Batch 100 Loss 0.0876\n",
            "Epoch 5 Batch 200 Loss 0.0900\n",
            "Epoch 5 Batch 300 Loss 0.0707\n",
            "Epoch 5 Batch 400 Loss 0.0993\n",
            "Epoch 5 Batch 500 Loss 0.1019\n",
            "Epoch 5 Batch 600 Loss 0.1134\n",
            "Epoch 5 Batch 700 Loss 0.1188\n",
            "Epoch 5 Batch 800 Loss 0.1219\n",
            "Epoch 5 Batch 900 Loss 0.1162\n",
            "Epoch 5 Batch 1000 Loss 0.1280\n",
            "Epoch 5 Batch 1100 Loss 0.1369\n",
            "Epoch 5 Batch 1200 Loss 0.0837\n",
            "Epoch 5 Batch 1300 Loss 0.1446\n",
            "Epoch 5 Batch 1400 Loss 0.1095\n",
            "Epoch 5 Batch 1500 Loss 0.1245\n",
            "Epoch 5 Batch 1600 Loss 0.1091\n",
            "Epoch 5 Loss 0.1110\n",
            "Time taken for 1 epoch 303.3578038215637 sec\n",
            "\n",
            "Epoch 6 Batch 0 Loss 0.0828\n",
            "Epoch 6 Batch 100 Loss 0.0801\n",
            "Epoch 6 Batch 200 Loss 0.0944\n",
            "Epoch 6 Batch 300 Loss 0.0569\n",
            "Epoch 6 Batch 400 Loss 0.0932\n",
            "Epoch 6 Batch 500 Loss 0.0705\n",
            "Epoch 6 Batch 600 Loss 0.1030\n",
            "Epoch 6 Batch 700 Loss 0.1182\n",
            "Epoch 6 Batch 800 Loss 0.0940\n",
            "Epoch 6 Batch 900 Loss 0.1370\n",
            "Epoch 6 Batch 1000 Loss 0.0825\n",
            "Epoch 6 Batch 1100 Loss 0.1239\n",
            "Epoch 6 Batch 1200 Loss 0.1117\n",
            "Epoch 6 Batch 1300 Loss 0.0909\n",
            "Epoch 6 Batch 1400 Loss 0.0889\n",
            "Epoch 6 Batch 1500 Loss 0.0972\n",
            "Epoch 6 Batch 1600 Loss 0.0949\n",
            "Epoch 6 Loss 0.0962\n",
            "Time taken for 1 epoch 302.2894642353058 sec\n",
            "\n",
            "Epoch 7 Batch 0 Loss 0.0604\n",
            "Epoch 7 Batch 100 Loss 0.0825\n",
            "Epoch 7 Batch 200 Loss 0.0494\n",
            "Epoch 7 Batch 300 Loss 0.0644\n",
            "Epoch 7 Batch 400 Loss 0.0662\n",
            "Epoch 7 Batch 500 Loss 0.0746\n",
            "Epoch 7 Batch 600 Loss 0.0945\n",
            "Epoch 7 Batch 700 Loss 0.0785\n",
            "Epoch 7 Batch 800 Loss 0.0873\n",
            "Epoch 7 Batch 900 Loss 0.0767\n",
            "Epoch 7 Batch 1000 Loss 0.1148\n",
            "Epoch 7 Batch 1100 Loss 0.0910\n",
            "Epoch 7 Batch 1200 Loss 0.0743\n",
            "Epoch 7 Batch 1300 Loss 0.0444\n",
            "Epoch 7 Batch 1400 Loss 0.1079\n",
            "Epoch 7 Batch 1500 Loss 0.1119\n",
            "Epoch 7 Batch 1600 Loss 0.0904\n",
            "Epoch 7 Loss 0.0833\n",
            "Time taken for 1 epoch 302.515380859375 sec\n",
            "\n",
            "Epoch 8 Batch 0 Loss 0.0515\n",
            "Epoch 8 Batch 100 Loss 0.0548\n",
            "Epoch 8 Batch 200 Loss 0.0484\n",
            "Epoch 8 Batch 300 Loss 0.0929\n",
            "Epoch 8 Batch 400 Loss 0.0845\n",
            "Epoch 8 Batch 500 Loss 0.0594\n",
            "Epoch 8 Batch 600 Loss 0.0734\n",
            "Epoch 8 Batch 700 Loss 0.0871\n",
            "Epoch 8 Batch 800 Loss 0.0739\n",
            "Epoch 8 Batch 900 Loss 0.0877\n",
            "Epoch 8 Batch 1000 Loss 0.0806\n",
            "Epoch 8 Batch 1100 Loss 0.0783\n",
            "Epoch 8 Batch 1200 Loss 0.1047\n",
            "Epoch 8 Batch 1300 Loss 0.0616\n",
            "Epoch 8 Batch 1400 Loss 0.1329\n",
            "Epoch 8 Batch 1500 Loss 0.0812\n",
            "Epoch 8 Batch 1600 Loss 0.0989\n",
            "Epoch 8 Loss 0.0753\n",
            "Time taken for 1 epoch 302.1406421661377 sec\n",
            "\n",
            "Epoch 9 Batch 0 Loss 0.1024\n",
            "Epoch 9 Batch 100 Loss 0.0480\n",
            "Epoch 9 Batch 200 Loss 0.0497\n",
            "Epoch 9 Batch 300 Loss 0.0740\n",
            "Epoch 9 Batch 400 Loss 0.0449\n",
            "Epoch 9 Batch 500 Loss 0.0730\n",
            "Epoch 9 Batch 600 Loss 0.0550\n",
            "Epoch 9 Batch 700 Loss 0.0636\n",
            "Epoch 9 Batch 800 Loss 0.0599\n",
            "Epoch 9 Batch 900 Loss 0.0835\n",
            "Epoch 9 Batch 1000 Loss 0.0752\n",
            "Epoch 9 Batch 1100 Loss 0.0580\n",
            "Epoch 9 Batch 1200 Loss 0.0725\n",
            "Epoch 9 Batch 1300 Loss 0.0957\n",
            "Epoch 9 Batch 1400 Loss 0.0506\n",
            "Epoch 9 Batch 1500 Loss 0.0795\n",
            "Epoch 9 Batch 1600 Loss 0.0565\n",
            "Epoch 9 Loss 0.0706\n",
            "Time taken for 1 epoch 302.0149176120758 sec\n",
            "\n",
            "Epoch 10 Batch 0 Loss 0.0650\n",
            "Epoch 10 Batch 100 Loss 0.0524\n",
            "Epoch 10 Batch 200 Loss 0.0718\n",
            "Epoch 10 Batch 300 Loss 0.0506\n",
            "Epoch 10 Batch 400 Loss 0.0672\n",
            "Epoch 10 Batch 500 Loss 0.0706\n",
            "Epoch 10 Batch 600 Loss 0.0704\n",
            "Epoch 10 Batch 700 Loss 0.0665\n",
            "Epoch 10 Batch 800 Loss 0.0429\n",
            "Epoch 10 Batch 900 Loss 0.0634\n",
            "Epoch 10 Batch 1000 Loss 0.0408\n",
            "Epoch 10 Batch 1100 Loss 0.0832\n",
            "Epoch 10 Batch 1200 Loss 0.0413\n",
            "Epoch 10 Batch 1300 Loss 0.0618\n",
            "Epoch 10 Batch 1400 Loss 0.0694\n",
            "Epoch 10 Batch 1500 Loss 0.0758\n",
            "Epoch 10 Batch 1600 Loss 0.0582\n",
            "Epoch 10 Loss 0.0659\n",
            "Time taken for 1 epoch 302.4867959022522 sec\n",
            "\n"
          ],
          "name": "stdout"
        }
      ]
    },
    {
      "cell_type": "code",
      "metadata": {
        "id": "hIbkNJWl750m",
        "colab_type": "code",
        "colab": {}
      },
      "source": [
        "#checkpoint.restore(tf.train.latest_checkpoint(checkpoint_dir))"
      ],
      "execution_count": 0,
      "outputs": []
    },
    {
      "cell_type": "code",
      "metadata": {
        "id": "KuFVut942Ko8",
        "colab_type": "code",
        "colab": {}
      },
      "source": [
        "def evaluate(sentence):\n",
        "  attention_plot = np.zeros((max_length_targ, max_length_inp))\n",
        "\n",
        "  sentence = preprocess_sentence(sentence)\n",
        "\n",
        "  inputs = [inp_lang.word_index[i] for i in sentence.split(' ')]\n",
        "  inputs = tf.keras.preprocessing.sequence.pad_sequences([inputs],\n",
        "                                                         maxlen=max_length_inp,\n",
        "                                                         padding='post')\n",
        "  inputs = tf.convert_to_tensor(inputs)\n",
        "\n",
        "  result = ''\n",
        "\n",
        "  hidden = [tf.zeros((1, units))]\n",
        "  enc_out, enc_hidden = encoder(inputs, hidden)\n",
        "\n",
        "  dec_hidden = enc_hidden\n",
        "  dec_input = tf.expand_dims([targ_lang.word_index['<start>']], 0)\n",
        "\n",
        "  for t in range(max_length_targ):\n",
        "    predictions, dec_hidden, attention_weights = decoder(dec_input,\n",
        "                                                         dec_hidden,\n",
        "                                                         enc_out)\n",
        "\n",
        "    # storing the attention weights to plot later on\n",
        "    attention_weights = tf.reshape(attention_weights, (-1, ))\n",
        "    attention_plot[t] = attention_weights.numpy()\n",
        "\n",
        "    predicted_id = tf.argmax(predictions[0]).numpy()\n",
        "\n",
        "    result += targ_lang.index_word[predicted_id] + ' '\n",
        "\n",
        "    if targ_lang.index_word[predicted_id] == '<end>':\n",
        "      return result, sentence, attention_plot\n",
        "\n",
        "    # the predicted ID is fed back into the model\n",
        "    dec_input = tf.expand_dims([predicted_id], 0)\n",
        "\n",
        "  return result, sentence, attention_plot"
      ],
      "execution_count": 0,
      "outputs": []
    },
    {
      "cell_type": "code",
      "metadata": {
        "id": "nxNPS1aTNI-r",
        "colab_type": "code",
        "colab": {}
      },
      "source": [
        "# function for plotting the attention weights\n",
        "import matplotlib.ticker as ticker\n",
        "def plot_attention(attention, sentence, predicted_sentence):\n",
        "  fig = plt.figure(figsize=(10,10))\n",
        "  ax = fig.add_subplot(1, 1, 1)\n",
        "  ax.matshow(attention, cmap='viridis')\n",
        "\n",
        "  fontdict = {'fontsize': 14}\n",
        "\n",
        "  ax.set_xticklabels([''] + sentence, fontdict=fontdict, rotation=90)\n",
        "  ax.set_yticklabels([''] + predicted_sentence, fontdict=fontdict)\n",
        "\n",
        "  ax.xaxis.set_major_locator(ticker.MultipleLocator(1))\n",
        "  ax.yaxis.set_major_locator(ticker.MultipleLocator(1))\n",
        "\n",
        "  plt.show()"
      ],
      "execution_count": 0,
      "outputs": []
    },
    {
      "cell_type": "code",
      "metadata": {
        "id": "-w3W6IfWxYD7",
        "colab_type": "code",
        "colab": {}
      },
      "source": [
        "def translate(sentence):\n",
        "  result, sentence, attention_plot = evaluate(sentence)\n",
        "\n",
        "  print('Input: %s' % (sentence))\n",
        "  print('Predicted translation: {}'.format(result))\n",
        "\n",
        "  attention_plot = attention_plot[:len(result.split(' ')), :len(sentence.split(' '))]\n",
        "  plot_attention(attention_plot, sentence.split(' '), result.split(' '))"
      ],
      "execution_count": 0,
      "outputs": []
    },
    {
      "cell_type": "code",
      "metadata": {
        "id": "x00g29wuxicN",
        "colab_type": "code",
        "outputId": "da066001-9d4e-4d45-f092-70f72311c3be",
        "colab": {
          "base_uri": "https://localhost:8080/",
          "height": 675
        }
      },
      "source": [
        "translate(u'je t aime.')"
      ],
      "execution_count": 0,
      "outputs": [
        {
          "output_type": "stream",
          "text": [
            "Input: <start> je t aime . <end>\n",
            "Predicted translation: i love you . <end> \n"
          ],
          "name": "stdout"
        },
        {
          "output_type": "display_data",
          "data": {
            "image/png": "[encoded data removed]",
            "text/plain": [
              "<Figure size 720x720 with 1 Axes>"
            ]
          },
          "metadata": {
            "tags": [],
            "needs_background": "light"
          }
        }
      ]
    },
    {
      "cell_type": "code",
      "metadata": {
        "id": "xKZXcyVMxvTA",
        "colab_type": "code",
        "outputId": "40f2926a-0580-46eb-b79e-6bf6eae8a52d",
        "colab": {
          "base_uri": "https://localhost:8080/",
          "height": 675
        }
      },
      "source": [
        "translate(u'quel est votre nom?')"
      ],
      "execution_count": 0,
      "outputs": [
        {
          "output_type": "stream",
          "text": [
            "Input: <start> quel est votre nom ? <end>\n",
            "Predicted translation: what s your name ? <end> \n"
          ],
          "name": "stdout"
        },
        {
          "output_type": "display_data",
          "data": {
            "image/png": "[encoded data removed]",
            "text/plain": [
              "<Figure size 720x720 with 1 Axes>"
            ]
          },
          "metadata": {
            "tags": [],
            "needs_background": "light"
          }
        }
      ]
    },
    {
      "cell_type": "code",
      "metadata": {
        "id": "LLIuj_5FytnG",
        "colab_type": "code",
        "outputId": "64661742-21b8-4e16-fcb7-8c535628d046",
        "colab": {
          "base_uri": "https://localhost:8080/",
          "height": 675
        }
      },
      "source": [
        "translate(u'bon appétit.')"
      ],
      "execution_count": 0,
      "outputs": [
        {
          "output_type": "stream",
          "text": [
            "Input: <start> bon appetit . <end>\n",
            "Predicted translation: enjoy your meal . <end> \n"
          ],
          "name": "stdout"
        },
        {
          "output_type": "display_data",
          "data": {
            "image/png": "[encoded data removed]",
            "text/plain": [
              "<Figure size 720x720 with 1 Axes>"
            ]
          },
          "metadata": {
            "tags": [],
            "needs_background": "light"
          }
        }
      ]
    },
    {
      "cell_type": "code",
      "metadata": {
        "id": "7xgveZryMx6F",
        "colab_type": "code",
        "outputId": "c5258d93-ddc9-455f-c45f-c0f1870615d6",
        "colab": {
          "base_uri": "https://localhost:8080/",
          "height": 675
        }
      },
      "source": [
        "translate(u'j aime ma voix.')"
      ],
      "execution_count": 0,
      "outputs": [
        {
          "output_type": "stream",
          "text": [
            "Input: <start> j aime ma voix . <end>\n",
            "Predicted translation: i like my voice . <end> \n"
          ],
          "name": "stdout"
        },
        {
          "output_type": "display_data",
          "data": {
            "image/png": "[encoded data removed]",
            "text/plain": [
              "<Figure size 720x720 with 1 Axes>"
            ]
          },
          "metadata": {
            "tags": [],
            "needs_background": "light"
          }
        }
      ]
    },
    {
      "cell_type": "code",
      "metadata": {
        "id": "F5A3kAU2QFuM",
        "colab_type": "code",
        "colab": {}
      },
      "source": [
        ""
      ],
      "execution_count": 0,
      "outputs": []
    }
  ]
}